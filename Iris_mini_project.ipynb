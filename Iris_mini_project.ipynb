{
  "nbformat": 4,
  "nbformat_minor": 0,
  "metadata": {
    "colab": {
      "name": "Iris mini project",
      "provenance": [],
      "collapsed_sections": [],
      "include_colab_link": true
    },
    "kernelspec": {
      "name": "python3",
      "display_name": "Python 3"
    },
    "accelerator": "GPU"
  },
  "cells": [
    {
      "cell_type": "markdown",
      "metadata": {
        "id": "view-in-github",
        "colab_type": "text"
      },
      "source": [
        "<a href=\"https://colab.research.google.com/github/DavidSnoble/CMPUT466miniproject/blob/main/Iris_mini_project.ipynb\" target=\"_parent\"><img src=\"https://colab.research.google.com/assets/colab-badge.svg\" alt=\"Open In Colab\"/></a>"
      ]
    },
    {
      "cell_type": "code",
      "metadata": {
        "id": "dDoI3H0_B7oF"
      },
      "source": [
        "# Importing dataset from scikit-learn and other useful packages:\n",
        "from sklearn.model_selection import train_test_split\n",
        "from sklearn.datasets import load_iris\n",
        "import matplotlib.pyplot as plt\n",
        "import numpy as np\n",
        "import pandas as pd\n",
        "\n",
        "# We will fix a random seed for reproducibility:"
      ],
      "execution_count": null,
      "outputs": []
    },
    {
      "cell_type": "code",
      "metadata": {
        "id": "LtH71K6vDRff"
      },
      "source": [
        "# We now import the Iris dataset:\n",
        "iris = load_iris()\n",
        "x=iris.data\n",
        "y=iris.target"
      ],
      "execution_count": null,
      "outputs": []
    },
    {
      "cell_type": "markdown",
      "metadata": {
        "id": "ZMRI1V43HZg9"
      },
      "source": [
        "## Preprocess dataset\n",
        "\n",
        "The preprocess step results very important in many cases. For this case, we will just need to do a very simple transformation: a one hot encode process."
      ]
    },
    {
      "cell_type": "code",
      "metadata": {
        "id": "Z2_d1fQ-HKfI",
        "colab": {
          "base_uri": "https://localhost:8080/"
        },
        "outputId": "aaff64ca-f934-422f-b356-e14d4a8bbd93"
      },
      "source": [
        "from tensorflow import keras\n",
        "    \n",
        "print(x.shape)\n",
        "# Split the data set into training and testing sets:\n",
        "x_train, x_test, y_train, y_test = train_test_split(x, y, \n",
        "                                                    test_size=0.3)\n",
        "from sklearn.model_selection import cross_validate\n",
        "from sklearn.model_selection import RandomizedSearchCV\n",
        "from sklearn.model_selection import ShuffleSplit"
      ],
      "execution_count": null,
      "outputs": [
        {
          "output_type": "stream",
          "name": "stdout",
          "text": [
            "(150, 4)\n"
          ]
        }
      ]
    },
    {
      "cell_type": "code",
      "metadata": {
        "id": "WLcDoeWxOU60",
        "colab": {
          "base_uri": "https://localhost:8080/"
        },
        "outputId": "fb5f9721-58ed-467c-f15c-544a1f5769ab"
      },
      "source": [
        "# Final evaluation of the model:\n",
        "from sklearn.naive_bayes import GaussianNB\n",
        "naive_model = GaussianNB()\n",
        "# history = naive_model.fit(x_train, y_train)\n",
        "# y_pred0 = naive_model.predict(x_test)\n",
        "cv_results = RandomizedSearchCV(naive_model, n_iter=50, cv=ShuffleSplit(n_splits=5), param_distributions= {'var_smoothing' : [1e-9, 1e-8, 1e-7] }, verbose=50,\n",
        "                    n_jobs=-1)\n",
        "cv_results.fit(x_train, y_train)\n",
        "y_pred0 = cv_results.predict(x_test)\n",
        "# Making the Confusion Matrix\n",
        "from sklearn.metrics import confusion_matrix, accuracy_score\n",
        "ac = accuracy_score(y_test,y_pred0)\n",
        "cm = confusion_matrix(y_test, y_pred0)\n",
        "print(ac)\n",
        "\n",
        "print('Best Params : ', str(cv_results.best_params_))"
      ],
      "execution_count": null,
      "outputs": [
        {
          "output_type": "stream",
          "name": "stdout",
          "text": [
            "Fitting 5 folds for each of 3 candidates, totalling 15 fits\n"
          ]
        },
        {
          "output_type": "stream",
          "name": "stderr",
          "text": [
            "/usr/local/lib/python3.7/dist-packages/sklearn/model_selection/_search.py:296: UserWarning: The total space of parameters 3 is smaller than n_iter=50. Running 3 iterations. For exhaustive searches, use GridSearchCV.\n",
            "  UserWarning,\n"
          ]
        },
        {
          "output_type": "stream",
          "name": "stdout",
          "text": [
            "0.9555555555555556\n",
            "Best Params :  {'var_smoothing': 1e-09}\n"
          ]
        }
      ]
    },
    {
      "cell_type": "code",
      "source": [
        "from sklearn.linear_model import SGDClassifier\n",
        "SGD_model = SGDClassifier(loss=\"log\", penalty='l1', learning_rate='adaptive', eta0=0.01)\n",
        "cv_results1 = RandomizedSearchCV(SGD_model, n_iter=50, cv=ShuffleSplit(n_splits=5), param_distributions= {'learning_rate' : ['constant', 'invscaling', 'adaptive'], 'eta0' : [0.0001, 0.1], 'early_stopping' : [True, False] },verbose=50,\n",
        "                    n_jobs=-1)\n",
        "cv_results1.fit(x_train, y_train)\n",
        "y_pred0 = cv_results1.predict(x_test)\n",
        "# Making the Confusion Matrix\n",
        "from sklearn.metrics import confusion_matrix, accuracy_score\n",
        "ac = accuracy_score(y_test,y_pred0)\n",
        "cm = confusion_matrix(y_test, y_pred0)\n",
        "print(ac)\n",
        "print('Best Params : ', str(cv_results1.best_params_))"
      ],
      "metadata": {
        "colab": {
          "base_uri": "https://localhost:8080/"
        },
        "id": "FtYUR52sEHcb",
        "outputId": "8eabcde1-970d-42e9-f071-81f9142f7c56"
      },
      "execution_count": null,
      "outputs": [
        {
          "output_type": "stream",
          "name": "stdout",
          "text": [
            "Fitting 5 folds for each of 12 candidates, totalling 60 fits\n"
          ]
        },
        {
          "output_type": "stream",
          "name": "stderr",
          "text": [
            "/usr/local/lib/python3.7/dist-packages/sklearn/model_selection/_search.py:296: UserWarning: The total space of parameters 12 is smaller than n_iter=50. Running 12 iterations. For exhaustive searches, use GridSearchCV.\n",
            "  UserWarning,\n"
          ]
        },
        {
          "output_type": "stream",
          "name": "stdout",
          "text": [
            "0.9333333333333333\n",
            "Best Params :  {'learning_rate': 'adaptive', 'eta0': 0.1, 'early_stopping': False}\n"
          ]
        }
      ]
    },
    {
      "cell_type": "code",
      "source": [
        "from sklearn.svm import SVC\n",
        "SVC_model = SVC(gamma='auto')\n",
        " \n",
        "cv_results2 = RandomizedSearchCV(SVC_model, n_iter=50, cv=ShuffleSplit(n_splits=5), param_distributions= {'gamma' : ['scale', 'auto'], 'kernel' : ['linear', 'poly', 'rbf', 'sigmoid']}, verbose=50,\n",
        "                    n_jobs=-1)\n",
        "cv_results2.fit(x_train, y_train)\n",
        "y_pred0 = cv_results2.predict(x_test)\n",
        "# Making the Confusion Matrix\n",
        "from sklearn.metrics import confusion_matrix, accuracy_score\n",
        "ac = accuracy_score(y_test,y_pred0)\n",
        "cm = confusion_matrix(y_test, y_pred0)\n",
        "print(ac)\n",
        "print('Best Params : ', str(cv_results2.best_params_))"
      ],
      "metadata": {
        "colab": {
          "base_uri": "https://localhost:8080/"
        },
        "id": "CdiqKgWupQvl",
        "outputId": "cd858662-754b-4573-a81e-00f9e261e872"
      },
      "execution_count": null,
      "outputs": [
        {
          "output_type": "stream",
          "name": "stdout",
          "text": [
            "Fitting 5 folds for each of 8 candidates, totalling 40 fits\n",
            "0.9555555555555556\n",
            "Best Params :  {'kernel': 'rbf', 'gamma': 'scale'}\n"
          ]
        },
        {
          "output_type": "stream",
          "name": "stderr",
          "text": [
            "/usr/local/lib/python3.7/dist-packages/sklearn/model_selection/_search.py:296: UserWarning: The total space of parameters 8 is smaller than n_iter=50. Running 8 iterations. For exhaustive searches, use GridSearchCV.\n",
            "  UserWarning,\n"
          ]
        }
      ]
    }
  ]
}